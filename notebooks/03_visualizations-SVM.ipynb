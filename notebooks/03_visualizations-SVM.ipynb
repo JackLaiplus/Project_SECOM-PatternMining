{
 "cells": [
  {
   "cell_type": "markdown",
   "id": "ce9417cf",
   "metadata": {},
   "source": [
    "# SECOM： SVM \n",
    "此 Notebook 用 **Support Vector Machine (SVM)**  做模型訓練/評估。\n",
    "- 缺失值：`SimpleImputer(strategy='median')`\n",
    "- 縮放：`StandardScaler`\n",
    "- 分類器：`SVC(RBF, class_weight='balanced', probability=True)`\n",
    "- 交叉驗證：`GridSearchCV`（以 ROC AUC 為主，並同時計算 F1/Recall/Precision/Accuracy）\n",
    "- 輸出：分類報告、混淆矩陣、ROC 曲線；另存最佳模型 `svm_best.joblib`，圖檔存於 `outputs/`"
   ]
  },
  {
   "cell_type": "markdown",
   "id": "08187c46",
   "metadata": {},
   "source": [
    "## 1) 匯入與設定"
   ]
  },
  {
   "cell_type": "code",
   "execution_count": 19,
   "id": "074e6eef",
   "metadata": {},
   "outputs": [],
   "source": [
    "# 若於新環境，取消下行註解安裝必要套件：\n",
    "!pip install -q numpy pandas scikit-learn matplotlib joblib\n",
    "\n",
    "import warnings\n",
    "warnings.filterwarnings('ignore')\n",
    "\n",
    "import os\n",
    "import numpy as np\n",
    "import pandas as pd\n",
    "import matplotlib.pyplot as plt\n",
    "\n",
    "from sklearn.model_selection import train_test_split, StratifiedKFold, GridSearchCV\n",
    "from sklearn.pipeline import Pipeline\n",
    "from sklearn.impute import SimpleImputer\n",
    "from sklearn.preprocessing import StandardScaler\n",
    "from sklearn.svm import SVC\n",
    "from sklearn.metrics import (\n",
    "    classification_report, confusion_matrix, roc_auc_score,\n",
    "    f1_score, accuracy_score, precision_score, recall_score, roc_curve\n",
    ")\n",
    "from sklearn.metrics import make_scorer\n",
    "from sklearn.utils.class_weight import compute_class_weight\n",
    "from joblib import dump\n",
    "\n",
    "# 輸出資料夾\n",
    "# os.makedirs('plots-svm', exist_ok=True)\n",
    "for folder in ['plots-svm', 'model-svm']:\n",
    "    os.makedirs(folder, exist_ok=True)"
   ]
  },
  {
   "cell_type": "markdown",
   "id": "01ef43e2",
   "metadata": {},
   "source": [
    "## 2) 參數"
   ]
  },
  {
   "cell_type": "code",
   "execution_count": 20,
   "id": "3df9e787",
   "metadata": {},
   "outputs": [],
   "source": [
    "# === 請修改成你的資料路徑與目標欄位 ===\n",
    "DATA_PATH    = '../data/uci-secom.csv'   # 例：'data/secom.csv'\n",
    "TARGET_COL   = 'Pass/Fail'   # 若不存在，會自動嘗試 'y'、'target'、'label'\n",
    "TEST_SIZE    = 0.2\n",
    "RANDOM_STATE = 42\n",
    "# SAVE_MODEL   = 'svm_best.joblib'\n",
    "# 設定檔案完整路徑（放在 output_model 資料夾下）\n",
    "SAVE_MODEL = os.path.join(\"model-svm\", \"best_model.joblib\")"
   ]
  },
  {
   "cell_type": "markdown",
   "id": "6ce6ce75",
   "metadata": {},
   "source": [
    "## 3) 輔助函式"
   ]
  },
  {
   "cell_type": "code",
   "execution_count": 4,
   "id": "a6c2a575",
   "metadata": {},
   "outputs": [],
   "source": [
    "def infer_target(y: pd.Series) -> pd.Series:\n",
    "    \"\"\"統一標籤：回傳 1=Fail, 0=Pass。支援 -1/1、0/1 或字串。\"\"\"\n",
    "    y = y.copy()\n",
    "    u = set(pd.unique(y.dropna()))\n",
    "    if u <= {-1, 1}:           # SECOM 常見：-1=Fail, 1=Pass\n",
    "        return (y == -1).astype(int)\n",
    "    if u <= {0, 1}:\n",
    "        return y.astype(int)\n",
    "    mapping = {'fail':1,'Fail':1,'FAIL':1,-1:1,\n",
    "               'pass':0,'Pass':0,'PASS':0, 1:0, 0:0}\n",
    "    return y.map(mapping).astype(int)\n",
    "\n",
    "def load_data(path: str, target_col: str):\n",
    "    df = pd.read_csv(path)\n",
    "    if target_col not in df.columns:\n",
    "        candidates = [c for c in ['Pass/Fail', 'y', 'target', 'label'] if c in df.columns]\n",
    "        if not candidates:\n",
    "            raise ValueError(f\"找不到目標欄位：{target_col}，且也無常見欄位（Pass/Fail, y, target, label）。\")\n",
    "        target_col = candidates[0]\n",
    "        print(f\"[Info] 未找到指定目標欄位，改用自動偵測：{target_col}\")\n",
    "    y = infer_target(df[target_col])\n",
    "    X = df.drop(columns=[target_col])\n",
    "    num_cols = X.select_dtypes(include=[np.number]).columns\n",
    "    if len(num_cols) == 0:\n",
    "        raise ValueError('資料沒有數值型特徵可用。請檢查輸入資料。')\n",
    "    X = X[num_cols]\n",
    "    return X, y, num_cols"
   ]
  },
  {
   "cell_type": "markdown",
   "id": "b8cd104b",
   "metadata": {},
   "source": [
    "## 4) 讀取資料與切分"
   ]
  },
  {
   "cell_type": "code",
   "execution_count": 5,
   "id": "38ca9cc3",
   "metadata": {},
   "outputs": [
    {
     "name": "stdout",
     "output_type": "stream",
     "text": [
      "[Info] X shape = (1567, 590), 目標 1 比例(=Fail) = 0.934\n",
      "[Info] 使用的數值特徵數：590\n",
      "[Info] 訓練集 class_weight 建議：{0: 7.548, 1: 0.535}\n"
     ]
    }
   ],
   "source": [
    "X, y, used_cols = load_data(DATA_PATH, TARGET_COL)\n",
    "print(f\"[Info] X shape = {X.shape}, 目標 1 比例(=Fail) = {y.mean():.3f}\")\n",
    "print(f\"[Info] 使用的數值特徵數：{len(used_cols)}\")\n",
    "\n",
    "X_train, X_test, y_train, y_test = train_test_split(\n",
    "    X, y, test_size=TEST_SIZE, random_state=RANDOM_STATE, stratify=y\n",
    ")\n",
    "\n",
    "classes = np.array([0,1])\n",
    "cw = compute_class_weight(class_weight='balanced', classes=classes, y=y_train)\n",
    "print(f\"[Info] 訓練集 class_weight 建議：{{0: {cw[0]:.3f}, 1: {cw[1]:.3f}}}\")"
   ]
  },
  {
   "cell_type": "markdown",
   "id": "9fe53be7",
   "metadata": {},
   "source": [
    "## 5) 建立 SVM Pipeline 與參數搜尋（不含 PCA，直接改用 SVM）"
   ]
  },
  {
   "cell_type": "code",
   "execution_count": 7,
   "id": "d6c2c7dc",
   "metadata": {},
   "outputs": [],
   "source": [
    "# Pipeline：中位數填補 → 標準化 → SVM(RBF)\n",
    "pipe = Pipeline(steps=[\n",
    "    ('imputer', SimpleImputer(strategy='median')),\n",
    "    ('scaler', StandardScaler(with_mean=True, with_std=True)),\n",
    "    ('svm', SVC(kernel='rbf', class_weight='balanced', probability=True, random_state=RANDOM_STATE))\n",
    "])\n",
    "\n",
    "param_grid = {\n",
    "    'svm__C': [0.5, 1, 2, 4, 8],\n",
    "    'svm__gamma': ['scale', 0.01, 0.001]\n",
    "}\n",
    "\n",
    "cv = StratifiedKFold(n_splits=5, shuffle=True, random_state=RANDOM_STATE)\n",
    "scoring = {\n",
    "    'roc_auc': 'roc_auc',\n",
    "    'f1': make_scorer(f1_score),\n",
    "    'recall': make_scorer(recall_score),\n",
    "    'precision': make_scorer(precision_score),\n",
    "    'accuracy': make_scorer(accuracy_score),\n",
    "}\n",
    "\n",
    "grid = GridSearchCV(\n",
    "    estimator=pipe,\n",
    "    param_grid=param_grid,\n",
    "    scoring=scoring,\n",
    "    refit='roc_auc',\n",
    "    cv=cv,\n",
    "    n_jobs=-1,\n",
    "    verbose=1\n",
    ")"
   ]
  },
  {
   "cell_type": "markdown",
   "id": "cc283fe7",
   "metadata": {},
   "source": [
    "## 6) 訓練與最佳化"
   ]
  },
  {
   "cell_type": "code",
   "execution_count": 8,
   "id": "70ebad71",
   "metadata": {},
   "outputs": [
    {
     "name": "stdout",
     "output_type": "stream",
     "text": [
      "Fitting 5 folds for each of 15 candidates, totalling 75 fits\n",
      "\n",
      "===== 交叉驗證最佳參數 =====\n",
      "{'svm__C': 4, 'svm__gamma': 0.01}\n",
      "CV best ROC_AUC: 0.6875\n"
     ]
    }
   ],
   "source": [
    "grid.fit(X_train, y_train)\n",
    "print('\\n===== 交叉驗證最佳參數 =====')\n",
    "print(grid.best_params_)\n",
    "print(f\"CV best ROC_AUC: {grid.best_score_:.4f}\")"
   ]
  },
  {
   "cell_type": "markdown",
   "id": "458b48e5",
   "metadata": {},
   "source": [
    "## 7) 測試集評估"
   ]
  },
  {
   "cell_type": "code",
   "execution_count": 9,
   "id": "638e4e63",
   "metadata": {},
   "outputs": [
    {
     "name": "stdout",
     "output_type": "stream",
     "text": [
      "\n",
      "===== 測試集結果 =====\n",
      "Confusion matrix:\n",
      "[[  0  21]\n",
      " [  0 293]]\n",
      "\n",
      "Classification report (1 = Fail):\n",
      "              precision    recall  f1-score   support\n",
      "\n",
      "           0     0.0000    0.0000    0.0000        21\n",
      "           1     0.9331    1.0000    0.9654       293\n",
      "\n",
      "    accuracy                         0.9331       314\n",
      "   macro avg     0.4666    0.5000    0.4827       314\n",
      "weighted avg     0.8707    0.9331    0.9008       314\n",
      "\n",
      "ROC AUC: 0.6164\n",
      "Accuracy: 0.9331\n",
      "F1: 0.9654\n",
      "Recall: 1.0000\n",
      "Precision: 0.9331\n"
     ]
    }
   ],
   "source": [
    "best_model = grid.best_estimator_\n",
    "y_pred = best_model.predict(X_test)\n",
    "y_proba = best_model.predict_proba(X_test)[:, 1]\n",
    "\n",
    "print('\\n===== 測試集結果 =====')\n",
    "print('Confusion matrix:')\n",
    "print(confusion_matrix(y_test, y_pred))\n",
    "print('\\nClassification report (1 = Fail):')\n",
    "print(classification_report(y_test, y_pred, digits=4))\n",
    "print(f\"ROC AUC: {roc_auc_score(y_test, y_proba):.4f}\")\n",
    "print(f\"Accuracy: {accuracy_score(y_test, y_pred):.4f}\")\n",
    "print(f\"F1: {f1_score(y_test, y_pred):.4f}\")\n",
    "print(f\"Recall: {recall_score(y_test, y_pred):.4f}\")\n",
    "print(f\"Precision: {precision_score(y_test, y_pred):.4f}\")"
   ]
  },
  {
   "cell_type": "markdown",
   "id": "12c75099",
   "metadata": {},
   "source": [
    "## 8) 視覺化：混淆矩陣熱圖 & ROC 曲線"
   ]
  },
  {
   "cell_type": "code",
   "execution_count": 21,
   "id": "a0fb0243",
   "metadata": {},
   "outputs": [
    {
     "data": {
      "image/png": "[encoded data removed]",
      "text/plain": [
       "<Figure size 400x300 with 2 Axes>"
      ]
     },
     "metadata": {},
     "output_type": "display_data"
    },
    {
     "data": {
      "image/png": "[encoded data removed]",
      "text/plain": [
       "<Figure size 500x400 with 1 Axes>"
      ]
     },
     "metadata": {},
     "output_type": "display_data"
    }
   ],
   "source": [
    "# 混淆矩陣熱圖（使用 matplotlib）\n",
    "cm = confusion_matrix(y_test, y_pred)\n",
    "plt.figure(figsize=(4,3))\n",
    "plt.imshow(cm, interpolation='nearest')\n",
    "plt.title('Confusion Matrix (SVM)')\n",
    "plt.xlabel('Predicted')\n",
    "plt.ylabel('True')\n",
    "for (i, j), v in np.ndenumerate(cm):\n",
    "    plt.text(j, i, str(v), ha='center', va='center')\n",
    "plt.colorbar()\n",
    "plt.tight_layout()\n",
    "plt.savefig('plots-svm/confusion_matrix_svm.png', dpi=140)\n",
    "plt.show()\n",
    "\n",
    "# ROC 曲線\n",
    "fpr, tpr, _ = roc_curve(y_test, y_proba)\n",
    "plt.figure(figsize=(5,4))\n",
    "plt.plot(fpr, tpr, label='SVM ROC')\n",
    "plt.plot([0,1],[0,1],'--', label='Random')\n",
    "plt.xlabel('False Positive Rate')\n",
    "plt.ylabel('True Positive Rate')\n",
    "plt.title('ROC Curve (SVM)')\n",
    "plt.legend()\n",
    "plt.grid(True)\n",
    "plt.tight_layout()\n",
    "plt.savefig('plots-svm/roc_curve_svm.png', dpi=140)\n",
    "plt.show()"
   ]
  },
  {
   "cell_type": "markdown",
   "id": "bc860c73",
   "metadata": {},
   "source": [
    "## 9) 儲存最佳模型"
   ]
  },
  {
   "cell_type": "code",
   "execution_count": 22,
   "id": "faf7e426",
   "metadata": {},
   "outputs": [
    {
     "name": "stdout",
     "output_type": "stream",
     "text": [
      "[Info] 已儲存最佳模型至：model-svm\\best_model.joblib\n"
     ]
    }
   ],
   "source": [
    "dump(best_model, SAVE_MODEL)\n",
    "print(f\"[Info] 已儲存最佳模型至：{SAVE_MODEL}\")"
   ]
  }
 ],
 "metadata": {
  "kernelspec": {
   "display_name": "base",
   "language": "python",
   "name": "python3"
  },
  "language_info": {
   "codemirror_mode": {
    "name": "ipython",
    "version": 3
   },
   "file_extension": ".py",
   "mimetype": "text/x-python",
   "name": "python",
   "nbconvert_exporter": "python",
   "pygments_lexer": "ipython3",
   "version": "3.12.3"
  }
 },
 "nbformat": 4,
 "nbformat_minor": 5
}
